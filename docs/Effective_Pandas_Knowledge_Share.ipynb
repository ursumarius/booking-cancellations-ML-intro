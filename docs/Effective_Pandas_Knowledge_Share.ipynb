{
 "cells": [
  {
   "cell_type": "markdown",
   "id": "76cb3b8b",
   "metadata": {},
   "source": [
    "# Effective Pandas"
   ]
  },
  {
   "cell_type": "markdown",
   "id": "7f212e9e",
   "metadata": {},
   "source": [
    "## Introduction\n",
    "Within our team, we have well-defined SQL conventions and linters in place to make sure we stick to them. When it comes to data further down the line, we often rely on Jupyter Notebooks for exploratory data analyses. At the top of your notebooks, one of the first things you typically do is importing `pandas`, one of the most powerful, easy to use, and flexible open source data analysis and manipulation tools out there.   \n",
    "\n",
    "**Challenges**  \n",
    "Yet pandas' flexibility comes at a cost: the code can be hard to read, oftentimes contains duplicates, and reproducing earlier results is not always obvious, especially in notebook environments in which cells can be executed in an arbitrary order. \n",
    "\n",
    "\n",
    "*Illustrative example*\n",
    "\n",
    "```\n",
    "df = pd.read_csv('export.csv')\n",
    "df2 = df[[col1, col3, col9]]  \n",
    "df2_slice = df2.col3.str.slice(0, 2)  \n",
    "df2_float = df2_slice.astype('float')  \n",
    "df2_float['perc'] = df2_float['col3'] * 100  \n",
    "df_final = df2_float.drop(column=['col3'])  \n",
    "```\n",
    "\n",
    "More importantly, ineffective use of pandas can become a bottleneck for your analysis once data volumes grow. After all, pandas requires that you load all your data into RAM so having multiple copies of your data around will not do you any favors. \n",
    "\n",
    "**Objective**  \n",
    "Therefore, Matt Harrison, author of Effective Pandas, suggests various coding *chaining* strategies to apply pandas patterns that are:\n",
    "1. Easy to read/debug\n",
    "2. Run faster\n",
    "3. Take up less memory\n",
    "\n",
    "In this knowledge share, I'll share some of my lessons learned while reading his [book](https://store.metasnake.com/effective-pandas-book) and demonstrate practical applications relevant in the bol.com landscape. If you prefer video over text, here are some resources you may find helpful instead: (i) [Idiomatic Pandas](https://www.youtube.com/watch?v=Z9ekw2Ou3s0) and (ii) [PyData Meetup](https://www.youtube.com/watch?v=zgbUk90aQ6A).\n",
    "\n",
    "Hope this is any helpful, learns you some new pandas tips & tricks, and inspires you to apply the chaining principles in your daily work!\n",
    "\n",
    "Cheers,  \n",
    "Roy."
   ]
  },
  {
   "cell_type": "markdown",
   "id": "b2774bbc",
   "metadata": {},
   "source": [
    "## Dataset\n",
    "For demonstration purposes, I picked a dataset that is highly relevant given the cloud cost savings initiatives going on currently: [`bolcom-pro-pq-master-data-ae7.lego_blocks_v2.base_query_logs_v1`](https://console.cloud.google.com/bigquery?ws=!1m5!1m4!4m3!1sbolcom-pro-pq-master-data-ae7!2slego_blocks_v2!3sbase_query_logs_v1&authuser=1&project=bolcom-pro-asa-12a) which is a collection of all historical BigQuery logs by user and provides information on the costs of these queries. Let's first import all logs from ASA colleagues in the last half a year."
   ]
  },
  {
   "cell_type": "code",
   "execution_count": 1,
   "id": "ab6fb030",
   "metadata": {},
   "outputs": [],
   "source": [
    "from google.cloud import bigquery\n",
    "import pandas as pd\n",
    "import numpy as np\n",
    "import matplotlib.pyplot as plt\n",
    "import warnings\n",
    "\n",
    "warnings.filterwarnings(\n",
    "    \"ignore\", \"Your application has authenticated using end user credentials\"\n",
    ")\n",
    "\n",
    "def import_data(query, project=\"bolcom-pro-asa-12a\"):\n",
    "    bq_client = bigquery.Client(project=project)\n",
    "    return bq_client.query(query=query).to_dataframe()\n",
    "    \n",
    "    \n",
    "# import historical BQ-logs from ASA-colleagues\n",
    "usernames = [\"rberends\", \"gvanlent\", \"lvanwijk\", \"evanvliet\", \"rkbos\", \"srustige\", \"pvanderdoe\", \"kkonings\", \"mboerhof\", \"sroggeveen\"]\n",
    "emails = \", \".join({\"'\" + username + \"@bol.com'\" for username in usernames})\n",
    "query = f\"\"\"\n",
    "        SELECT *\n",
    "        FROM `bolcom-pro-pq-master-data-ae7.lego_blocks_v2.base_query_logs_v1`\n",
    "        WHERE \n",
    "            date BETWEEN '2022-06-01' AND '2022-11-01'\n",
    "            AND userId IN ({emails})\n",
    "        ORDER BY 1, 3\n",
    "\"\"\"\n",
    "df = import_data(query)"
   ]
  },
  {
   "cell_type": "markdown",
   "id": "4f2446aa",
   "metadata": {},
   "source": [
    "If you inspect the `df`, you'll see the `referencedResources` columns contains a nested strucure. This is because it comprises a list of all direct and indirect tables used within a query. As an example, the following query imports data from a view ([`bolcom-pro-webdata-f6f.sdd_actuals.sdd_webbehaviour_vw`](https://console.cloud.google.com/bigquery?project=bolcom-pro-asa-12a&ws=!1m10!1m4!1m3!1sbolcom-pro-asa-12a!2sbquxjob_1d5c4805_184579eb3a7!3sUS!1m4!4m3!1sbolcom-pro-webdata-f6f!2ssdd_actuals!3ssdd_webbehaviour_vw)).."
   ]
  },
  {
   "cell_type": "code",
   "execution_count": 2,
   "id": "dc036c8d",
   "metadata": {},
   "outputs": [
    {
     "data": {
      "text/plain": [
       "'SELECT retailerid, session_id, prop20 FROM `bolcom-pro-webdata-f6f.sdd_actuals.sdd_webbehaviour_vw`  WHERE prop20 = \"clothing-name-trademark-register\" AND visit_date >= \"2022-08-05\" '"
      ]
     },
     "execution_count": 2,
     "metadata": {},
     "output_type": "execute_result"
    }
   ],
   "source": [
    "example_query = df.query('jobId == \"projects/bolcom-pro-asa-12a/jobs/bquxjob_7fd64d8b_183d5440dd8\"')\n",
    "\n",
    "(example_query\n",
    " ['query']\n",
    " [923]\n",
    " .replace('\\n', ' ')\n",
    ")                "
   ]
  },
  {
   "cell_type": "markdown",
   "id": "61667516",
   "metadata": {},
   "source": [
    "..which in turn builds on one of our lego blocks (`bolcom-pro-pq-master-data-ae7.lego_blocks_v2.base_sdd_webbehaviour_v1`). For that reason, you come across a repeated field for the `referencedResources` column in this case:"
   ]
  },
  {
   "cell_type": "code",
   "execution_count": 3,
   "id": "b88058de",
   "metadata": {},
   "outputs": [
    {
     "data": {
      "text/plain": [
       "array([{'projectId': 'bolcom-pro-pq-master-data-ae7', 'datasetId': 'lego_blocks_v2', 'tableId': 'base_sdd_webbehaviour_v1', 'id': 'bolcom-pro-pq-master-data-ae7.lego_blocks_v2.base_sdd_webbehaviour_v1', 'type': 'TABLE'},\n",
       "       {'projectId': 'bolcom-pro-webdata-f6f', 'datasetId': 'sdd_actuals', 'tableId': 'sdd_webbehaviour_vw', 'id': 'bolcom-pro-webdata-f6f.sdd_actuals.sdd_webbehaviour_vw', 'type': 'VIEW'}],\n",
       "      dtype=object)"
      ]
     },
     "execution_count": 3,
     "metadata": {},
     "output_type": "execute_result"
    }
   ],
   "source": [
    "(example_query\n",
    " ['referencedResources']\n",
    " [923]\n",
    ")"
   ]
  },
  {
   "cell_type": "markdown",
   "id": "962a1623",
   "metadata": {},
   "source": [
    "Hence the `referencedResources` column stores two sources in the array:"
   ]
  },
  {
   "cell_type": "code",
   "execution_count": 4,
   "id": "d5cbefff",
   "metadata": {},
   "outputs": [
    {
     "data": {
      "text/plain": [
       "['bolcom-pro-pq-master-data-ae7.lego_blocks_v2.base_sdd_webbehaviour_v1',\n",
       " 'bolcom-pro-webdata-f6f.sdd_actuals.sdd_webbehaviour_vw']"
      ]
     },
     "execution_count": 4,
     "metadata": {},
     "output_type": "execute_result"
    }
   ],
   "source": [
    "[resource['id'] for resource in example_query['referencedResources'][923]]"
   ]
  },
  {
   "cell_type": "markdown",
   "id": "9b97647b",
   "metadata": {},
   "source": [
    "---"
   ]
  },
  {
   "cell_type": "markdown",
   "id": "2e8f4839",
   "metadata": {},
   "source": [
    "**Data Types**  \n",
    "Now that we have imported the data as a dataframe, let's have a closer look at the data types. By default, pandas attempts to figure out the optimal data type (e.g., `dbdate, datetime, float, boolean`) but in practice it can benefit from some handholding here and there. This especially holds for data classified as `object`."
   ]
  },
  {
   "cell_type": "code",
   "execution_count": 5,
   "id": "ee6eb956",
   "metadata": {},
   "outputs": [
    {
     "data": {
      "text/plain": [
       "jobId                          object\n",
       "date                           dbdate\n",
       "datetime               datetime64[ns]\n",
       "projectId                      object\n",
       "userId                         object\n",
       "referencedResources            object\n",
       "destinationTable               object\n",
       "query                          object\n",
       "totalBilledBytes               object\n",
       "totalCost                     float64\n",
       "queryType                      object\n",
       "isProductAnalyst              boolean\n",
       "dtype: object"
      ]
     },
     "execution_count": 5,
     "metadata": {},
     "output_type": "execute_result"
    }
   ],
   "source": [
    "# inspect types\n",
    "df.dtypes"
   ]
  },
  {
   "cell_type": "markdown",
   "id": "40ab8075",
   "metadata": {},
   "source": [
    "Our goal is to minimize the required memory usage for the dataframe without making any changes to the underlying data. As a starting point, our dataframe takes up 162 MB. The `memory_usage()` function returns the number of bytes which is why we still need to divide by a million to get the number of mega bytes (like the Watt to Megawatt conversions you calculated during your physics classes back in the days, don't you remember?). \n",
    "\n",
    "Never mind, as you can see, the `query` column (the SQL statement ran by the user) is responsible for the lion share of this memory usage (126 MB)."
   ]
  },
  {
   "cell_type": "code",
   "execution_count": 6,
   "id": "d9251f3d",
   "metadata": {},
   "outputs": [
    {
     "data": {
      "text/plain": [
       "query                  126.60\n",
       "destinationTable         8.79\n",
       "jobId                    6.52\n",
       "referencedResources      5.39\n",
       "projectId                4.01\n",
       "userId                   3.50\n",
       "totalBilledBytes         3.22\n",
       "queryType                3.17\n",
       "date                     0.39\n",
       "datetime                 0.39\n",
       "totalCost                0.39\n",
       "isProductAnalyst         0.10\n",
       "Index                    0.00\n",
       "dtype: float64"
      ]
     },
     "execution_count": 6,
     "metadata": {},
     "output_type": "execute_result"
    }
   ],
   "source": [
    "# memory usage (MB)\n",
    "(df\n",
    " .memory_usage(deep=True)\n",
    " .sort_values(ascending=False) \n",
    " .div(1e6)\n",
    " .round(2)\n",
    ")"
   ]
  },
  {
   "cell_type": "markdown",
   "id": "679107a2",
   "metadata": {},
   "source": [
    "**Reducing data volume**  \n",
    "You can often shrink the memory usage of a dataframe by changing the type while not losing any data.\n",
    "1. Convert numeric data to a format with the appropriate integer/float type\n",
    "2. Convert low cardinality text data to categorical \n"
   ]
  },
  {
   "cell_type": "markdown",
   "id": "fa8488d3",
   "metadata": {},
   "source": [
    "*Numeric data*  \n",
    "There are various types of integers and floats. Each type has its own lower and upper bound. The wider the range, the more memory the type requires. You can inspect the `min` and `max` values of each type with the `numpy` function `iinfo` (integers) and `finfo` (floats). In the table below, I've also listed these ranges."
   ]
  },
  {
   "cell_type": "code",
   "execution_count": 7,
   "id": "a4e097ec",
   "metadata": {},
   "outputs": [
    {
     "data": {
      "text/plain": [
       "iinfo(min=-128, max=127, dtype=int8)"
      ]
     },
     "execution_count": 7,
     "metadata": {},
     "output_type": "execute_result"
    }
   ],
   "source": [
    "# range of integers of type int8\n",
    "np.iinfo(np.int8)"
   ]
  },
  {
   "cell_type": "markdown",
   "id": "12f6fbc0",
   "metadata": {},
   "source": [
    "| Type | Minimum | Maximum | \n",
    "| :--- | :--- | :--- |\n",
    "| int8 | -128 | 127 | \n",
    "| int16 | -32768 | -32768 | \n",
    "| int32 | -2147483648 | 2147483647 | \n",
    "| int64 | -9223372036854775808 | 9223372036854775808 | \n",
    "\n",
    "\n",
    "| Type | Minimum | Maximum | \n",
    "| :--- | :--- | :--- |\n",
    "| float16 | -6.5e+04 | 6.5e+04 | \n",
    "| float32 | -3.4e+38 | 3.4e+38 | \n",
    "| float64 | -1.8e+308 | 1.8e+308 | "
   ]
  },
  {
   "cell_type": "markdown",
   "id": "b79c1f02",
   "metadata": {},
   "source": [
    "The idea is that you want to pick the right data types based on the ranges in your dataset. If you pick a type of which your data falls outside of the supported range, it will corrupt your data:"
   ]
  },
  {
   "cell_type": "code",
   "execution_count": 8,
   "id": "cc8f8777",
   "metadata": {},
   "outputs": [
    {
     "data": {
      "text/plain": [
       "0    -44\n",
       "1     56\n",
       "2   -100\n",
       "3      0\n",
       "4    100\n",
       "5    -56\n",
       "6     44\n",
       "dtype: int8"
      ]
     },
     "execution_count": 8,
     "metadata": {},
     "output_type": "execute_result"
    }
   ],
   "source": [
    "# int8 only runs from -128 to 127 so our -300, -200, 200, and 300 values are off (don't do this!)\n",
    "pd.Series([-300, -200, -100, 0, 100, 200, 300]).astype('int8')"
   ]
  },
  {
   "cell_type": "code",
   "execution_count": 9,
   "id": "e295e080",
   "metadata": {},
   "outputs": [
    {
     "data": {
      "text/plain": [
       "0    64992.0\n",
       "1        inf\n",
       "dtype: float16"
      ]
     },
     "execution_count": 9,
     "metadata": {},
     "output_type": "execute_result"
    }
   ],
   "source": [
    "# similarly float 16 only goes as far as 65K: 70K is converted into `inf` (big no no!)\n",
    "pd.Series([65_000, 70_000]).astype('float16')"
   ]
  },
  {
   "cell_type": "markdown",
   "id": "4b1ec588",
   "metadata": {},
   "source": [
    "As such, always have a look at the ranges within your dataset and don't forget to think about about the theoretically possible ranges. After all, data is dynamic so always ask yourself the question: *are the supported range by this datatype good enough for future data demands?*"
   ]
  },
  {
   "cell_type": "code",
   "execution_count": 10,
   "id": "e242cad1",
   "metadata": {},
   "outputs": [
    {
     "data": {
      "text/plain": [
       "34569536405504"
      ]
     },
     "execution_count": 10,
     "metadata": {},
     "output_type": "execute_result"
    }
   ],
   "source": [
    "# for example int32 will not do here (34569536405504 > 2147483647)\n",
    "df.totalBilledBytes.astype('int').max() "
   ]
  },
  {
   "cell_type": "markdown",
   "id": "5e426ec6",
   "metadata": {},
   "source": [
    "As you can below, this conversion yielded a marginal memory saving of 3 MB (from 162 to 159 MB). Let's see whether we can do better.."
   ]
  },
  {
   "cell_type": "code",
   "execution_count": 11,
   "id": "50e98420",
   "metadata": {},
   "outputs": [
    {
     "data": {
      "text/plain": [
       "159.330839"
      ]
     },
     "execution_count": 11,
     "metadata": {},
     "output_type": "execute_result"
    }
   ],
   "source": [
    "(df\n",
    " .astype({'totalBilledBytes': 'int64',\n",
    "          'totalCost': 'float16'}) # the highest query costs are 157 so it's very unlikely it will exceed 65K any time soon\n",
    " .memory_usage(deep=True)\n",
    " .sum()\n",
    ") / 1e6"
   ]
  },
  {
   "cell_type": "markdown",
   "id": "a9704cf3",
   "metadata": {},
   "source": [
    "Btw, did you notice how we're applying the chaining principle here the author strongly advocates about? Note that we had to wrap our dataframe between brackets, yet by referring to our original `df` (rather than some intermediate result e.g., `df99`) and separating all methods across multiple lines we have improved reproducibility and legibility of our code significantly! You'll come across many more chaining examples in this notebook. Take notice."
   ]
  },
  {
   "cell_type": "markdown",
   "id": "d3844ff2",
   "metadata": {},
   "source": [
    "*Categorical data*  \n",
    "Mapping to categorical data pays dividend especially for columns that contain repetitive `object` data (strings). There's nothing like a free lunch, so if all string values are unique it's unlikely to result in memory savings and may even slow things down. Here I picked some columns of which I knew they had repetitive data based on inspecting the head and tail of the dataset. Again, the conversion to categorical data yields only minimal memory savings here (162 → 150 MB)."
   ]
  },
  {
   "cell_type": "code",
   "execution_count": 12,
   "id": "f1d201bb",
   "metadata": {},
   "outputs": [
    {
     "data": {
      "text/plain": [
       "150.448839"
      ]
     },
     "execution_count": 12,
     "metadata": {},
     "output_type": "execute_result"
    }
   ],
   "source": [
    "# object data\n",
    "(df\n",
    " .astype({'projectId': 'category', \n",
    "          'userId': 'category', \n",
    "          'destinationTable': 'category', \n",
    "          'queryType': 'category'})\n",
    " .memory_usage(deep=True)\n",
    " .sum()\n",
    ") / 1e6"
   ]
  },
  {
   "cell_type": "markdown",
   "id": "1c348a1d",
   "metadata": {},
   "source": [
    "Only later I realized, the `query` column is repetitive in many cases too: this especially holds for daily scheduled queries. For example, if you inspect this gropued dataframe, you see a very long - as in many lines of SQL code - query that ran 1832 times and thus also creates 1832 separate entries in our dataframe. Instead of mapping all these records distinctively, it's more memory efficient to map it as a category."
   ]
  },
  {
   "cell_type": "code",
   "execution_count": 13,
   "id": "1e5842e3",
   "metadata": {},
   "outputs": [],
   "source": [
    "(df\n",
    " .groupby(['queryType', 'userId', 'query'])\n",
    " [['jobId']]\n",
    " .count()\n",
    " .sort_values(by='jobId', ascending=False)\n",
    ");"
   ]
  },
  {
   "cell_type": "markdown",
   "id": "d1dacb9e",
   "metadata": {},
   "source": [
    "In fact, this step is the biggest memory saver we can implement: we reduced memory usage from 162 to 88 MB with just a single line of code!"
   ]
  },
  {
   "cell_type": "code",
   "execution_count": 14,
   "id": "844e582f",
   "metadata": {},
   "outputs": [
    {
     "data": {
      "text/plain": [
       "87.801167"
      ]
     },
     "execution_count": 14,
     "metadata": {},
     "output_type": "execute_result"
    }
   ],
   "source": [
    "# convert query column to categorical\n",
    "(df\n",
    " .astype({'query': 'category'})\n",
    " .memory_usage(deep=True)\n",
    " .sum()\n",
    ") / 1e6"
   ]
  },
  {
   "cell_type": "markdown",
   "id": "7bebc0c3",
   "metadata": {},
   "source": [
    "Putting everything together, both numerical and categorical type conversions (and leaving out some redundant columns), we end up at 53 MB for our cleaned dataframe. Now give yourself a pat on the back!"
   ]
  },
  {
   "cell_type": "code",
   "execution_count": 15,
   "id": "e6d1404a",
   "metadata": {},
   "outputs": [],
   "source": [
    "# final result (53 MB)\n",
    "def preprocess_logs(df):\n",
    "    return(df\n",
    "            .astype({'totalBilledBytes': 'int64', 'totalCost': 'float16', 'projectId': 'category', 'userId': 'category', 'destinationTable': 'category', 'queryType': 'category', 'query': 'category'})\n",
    "            .drop(columns=['jobId', 'date', 'referencedResources', 'destinationTable', 'isProductAnalyst'])\n",
    "    )\n",
    "\n",
    "df_cleaned = preprocess_logs(df)"
   ]
  },
  {
   "cell_type": "markdown",
   "id": "607e3515",
   "metadata": {},
   "source": [
    "---"
   ]
  },
  {
   "cell_type": "markdown",
   "id": "a0db4b63",
   "metadata": {},
   "source": [
    "## Exploratory Analysis\n",
    "Since the data is in the right shape now, let's have a closer look at the distribution of `totalCost` to see whether we can make any sense of it."
   ]
  },
  {
   "cell_type": "code",
   "execution_count": 16,
   "id": "267232d6",
   "metadata": {
    "scrolled": true
   },
   "outputs": [
    {
     "data": {
      "image/png": "[encoded data removed]",
      "text/plain": [
       "<Figure size 640x480 with 1 Axes>"
      ]
     },
     "metadata": {},
     "output_type": "display_data"
    }
   ],
   "source": [
    "df_cleaned.totalCost.plot.box();"
   ]
  },
  {
   "cell_type": "markdown",
   "id": "8923c48c",
   "metadata": {},
   "source": [
    "It looks like the data is highly skewed: most queries cost a couple of cents at most, while there are some queries in the tens or even hundreds of euros. For many arithmetic operations (e.g., mean) and statistical tests (e.g., t-test) this will give misleading results. Simply excluding all outliers without any further investigation is usually not the best thing to do either (and academic reviewers will  recklessly tear your analyses apart only if you attempt to). \n",
    "\n",
    "Pandas does come with the `clip()` function which allows you to set an upper (and lower) bound for all values in a column. You can set a static value (e.g., all query costs exceeding 75 euro are fixed at 75 euro) or you can choose its value based on the data distribution. Here I have picked the 90th percentile - as a somewhat arbitrary - cut-off point. This basically means the top 10% datapoints will be fixed at the 90th percentile (€1.47): "
   ]
  },
  {
   "cell_type": "code",
   "execution_count": 17,
   "id": "8a778cf2",
   "metadata": {},
   "outputs": [
    {
     "data": {
      "text/html": [
       "<div>\n",
       "<style scoped>\n",
       "    .dataframe tbody tr th:only-of-type {\n",
       "        vertical-align: middle;\n",
       "    }\n",
       "\n",
       "    .dataframe tbody tr th {\n",
       "        vertical-align: top;\n",
       "    }\n",
       "\n",
       "    .dataframe thead th {\n",
       "        text-align: right;\n",
       "    }\n",
       "</style>\n",
       "<table border=\"1\" class=\"dataframe\">\n",
       "  <thead>\n",
       "    <tr style=\"text-align: right;\">\n",
       "      <th></th>\n",
       "      <th>totalCost</th>\n",
       "      <th>totalCostFiltered</th>\n",
       "    </tr>\n",
       "  </thead>\n",
       "  <tbody>\n",
       "    <tr>\n",
       "      <th>202</th>\n",
       "      <td>14.640625</td>\n",
       "      <td>1.469727</td>\n",
       "    </tr>\n",
       "    <tr>\n",
       "      <th>209</th>\n",
       "      <td>3.080078</td>\n",
       "      <td>1.469727</td>\n",
       "    </tr>\n",
       "    <tr>\n",
       "      <th>212</th>\n",
       "      <td>39.375000</td>\n",
       "      <td>1.469727</td>\n",
       "    </tr>\n",
       "    <tr>\n",
       "      <th>215</th>\n",
       "      <td>2.699219</td>\n",
       "      <td>1.469727</td>\n",
       "    </tr>\n",
       "    <tr>\n",
       "      <th>216</th>\n",
       "      <td>39.375000</td>\n",
       "      <td>1.469727</td>\n",
       "    </tr>\n",
       "  </tbody>\n",
       "</table>\n",
       "</div>"
      ],
      "text/plain": [
       "     totalCost  totalCostFiltered\n",
       "202  14.640625           1.469727\n",
       "209   3.080078           1.469727\n",
       "212  39.375000           1.469727\n",
       "215   2.699219           1.469727\n",
       "216  39.375000           1.469727"
      ]
     },
     "execution_count": 17,
     "metadata": {},
     "output_type": "execute_result"
    }
   ],
   "source": [
    "df_costs = (\n",
    "    df_cleaned\n",
    "    .assign(totalCostFiltered = df_cleaned.totalCost.clip(upper=df_cleaned.totalCost.quantile(.9)))\n",
    ")\n",
    "\n",
    "df_costs.query('totalCost != totalCostFiltered').head(5)[['totalCost', 'totalCostFiltered']]"
   ]
  },
  {
   "cell_type": "markdown",
   "id": "26a5b72f",
   "metadata": {},
   "source": [
    "Although this may seem like a good solution on paper, in practice you're making drastical changes to your underlying dataset. For example, here you have essentially created a bi-modal distribution (do you see the second spike around 1.50 euros?. That's a result of our `clip()` operation above and not inherently part of the original dataset)."
   ]
  },
  {
   "cell_type": "code",
   "execution_count": 18,
   "id": "627db1b7",
   "metadata": {},
   "outputs": [
    {
     "data": {
      "image/png": "[encoded data removed]",
      "text/plain": [
       "<Figure size 640x480 with 1 Axes>"
      ]
     },
     "metadata": {},
     "output_type": "display_data"
    }
   ],
   "source": [
    "df_costs.totalCostFiltered.plot.kde();"
   ]
  },
  {
   "cell_type": "markdown",
   "id": "bddc4443",
   "metadata": {},
   "source": [
    "What you can try to do instead is creating various price bins: low, medium, and high cost queries. For skewed data, the default choice is not ideal though: the `pd.cut()` looks at the minimum and maximum values in your dataset and creates equally sized bins. Given the data is heavily right-skewed, 99% of the data would end up in the first bin."
   ]
  },
  {
   "cell_type": "code",
   "execution_count": 19,
   "id": "fe23cd1c",
   "metadata": {},
   "outputs": [
    {
     "data": {
      "text/plain": [
       "0        (-0.157, 52.417]\n",
       "1        (-0.157, 52.417]\n",
       "2        (-0.157, 52.417]\n",
       "3        (-0.157, 52.417]\n",
       "4        (-0.157, 52.417]\n",
       "               ...       \n",
       "48129    (-0.157, 52.417]\n",
       "48130    (-0.157, 52.417]\n",
       "48131    (-0.157, 52.417]\n",
       "48132    (-0.157, 52.417]\n",
       "48133    (-0.157, 52.417]\n",
       "Name: totalCost, Length: 48134, dtype: category\n",
       "Categories (3, interval[float64, right]): [(-0.157, 52.417] < (52.417, 104.833] < (104.833, 157.25]]"
      ]
     },
     "execution_count": 19,
     "metadata": {},
     "output_type": "execute_result"
    }
   ],
   "source": [
    "# doesn't work well for skewed data\n",
    "pd.cut(df_costs['totalCost'], bins=3)"
   ]
  },
  {
   "cell_type": "markdown",
   "id": "3b00db35",
   "metadata": {},
   "source": [
    "Therefore, it makes more sense to set these boundaries based on the data distribution in this case: low (€0-0.01; 0-50th percentile), medium (€0.01 - 1.47; 50-90th percentile), and high (>€1.47; 90-100th percentile)."
   ]
  },
  {
   "cell_type": "code",
   "execution_count": 20,
   "id": "d614428a",
   "metadata": {},
   "outputs": [
    {
     "name": "stdout",
     "output_type": "stream",
     "text": [
      "3.02 ms ± 12.9 µs per loop (mean ± std. dev. of 7 runs, 100 loops each)\n"
     ]
    }
   ],
   "source": [
    "%%timeit\n",
    "(df_costs\n",
    " .assign(costClassification=pd.cut(df_costs['totalCost'], \n",
    "                                   bins=df_costs['totalCost'].quantile([0, .5, .9, 1]).values, \n",
    "                                   labels=[\"low\", \"medium\", \"high\"], \n",
    "                                   include_lowest=True))\n",
    " .head(5)\n",
    " [['totalCost', 'costClassification']]\n",
    ")"
   ]
  },
  {
   "cell_type": "markdown",
   "id": "fdaee2a3",
   "metadata": {},
   "source": [
    "In the example above, we used the built-in `pd.cut()` function, but if you're unaware of the existence of that function you might have written your own (see `classify_costs` below) and used it in conjunction with `apply`."
   ]
  },
  {
   "cell_type": "markdown",
   "id": "8270062b",
   "metadata": {},
   "source": [
    "Unlike popular belief, `apply` is not the most efficient solution for numeric data though. Vectorized operations - such as the ones supported by plain pandas - can be an order of magnitude faster depending on the data types and volumes because it's operating at the C-level. If you're using a lot of for-loops in your code you're probably doing things the wrong way. The example below that yields exactly the same output, is almost 5 times as slow as the one above using native pandas."
   ]
  },
  {
   "cell_type": "code",
   "execution_count": 21,
   "id": "2037499a",
   "metadata": {},
   "outputs": [
    {
     "name": "stdout",
     "output_type": "stream",
     "text": [
      "16.3 ms ± 216 µs per loop (mean ± std. dev. of 7 runs, 100 loops each)\n"
     ]
    }
   ],
   "source": [
    "%%timeit\n",
    "# slower alternative\n",
    "def classify_costs(cost, low, medium):\n",
    "    if cost < low:\n",
    "        return 'low'\n",
    "    elif cost < medium:\n",
    "        return 'medium'\n",
    "    else:\n",
    "        return 'high'\n",
    "    \n",
    "(df_costs\n",
    "     .assign(costClassification=df_costs.totalCost.apply(classify_costs,\n",
    "                                                         low=df_costs['totalCost'].quantile(.5), \n",
    "                                                         medium=df_costs['totalCost'].quantile(.9)))\n",
    ")"
   ]
  },
  {
   "cell_type": "markdown",
   "id": "0743e2ce",
   "metadata": {},
   "source": [
    "---"
   ]
  },
  {
   "cell_type": "markdown",
   "id": "35b9a00f",
   "metadata": {},
   "source": [
    "**Lambda functions**  \n",
    "As we saw above, the `.assign()` operator can be a handy tool to add new columns or change existing ones in our chain of commands. One caveat though is that this method always returns a dataframe (i.e., it does not mutate the existing dataframe). So let's say we want to add a boolean `recurringExpensive` that denotes whether a recurring (scheduled/dbt) query is classified as expensive (`costClassification == high`), it raises an error:"
   ]
  },
  {
   "cell_type": "code",
   "execution_count": 22,
   "id": "8393a9ec",
   "metadata": {},
   "outputs": [
    {
     "ename": "AttributeError",
     "evalue": "'DataFrame' object has no attribute 'costClassification'",
     "output_type": "error",
     "traceback": [
      "\u001b[0;31m---------------------------------------------------------------------------\u001b[0m",
      "\u001b[0;31mAttributeError\u001b[0m                            Traceback (most recent call last)",
      "Cell \u001b[0;32mIn [22], line 6\u001b[0m\n\u001b[1;32m      1\u001b[0m (df\n\u001b[1;32m      2\u001b[0m  \u001b[38;5;241m.\u001b[39mastype({\u001b[38;5;124m'\u001b[39m\u001b[38;5;124mtotalBilledBytes\u001b[39m\u001b[38;5;124m'\u001b[39m: \u001b[38;5;124m'\u001b[39m\u001b[38;5;124mint64\u001b[39m\u001b[38;5;124m'\u001b[39m, \u001b[38;5;124m'\u001b[39m\u001b[38;5;124mtotalCost\u001b[39m\u001b[38;5;124m'\u001b[39m: \u001b[38;5;124m'\u001b[39m\u001b[38;5;124mfloat16\u001b[39m\u001b[38;5;124m'\u001b[39m, \u001b[38;5;124m'\u001b[39m\u001b[38;5;124mprojectId\u001b[39m\u001b[38;5;124m'\u001b[39m: \u001b[38;5;124m'\u001b[39m\u001b[38;5;124mcategory\u001b[39m\u001b[38;5;124m'\u001b[39m, \u001b[38;5;124m'\u001b[39m\u001b[38;5;124muserId\u001b[39m\u001b[38;5;124m'\u001b[39m: \u001b[38;5;124m'\u001b[39m\u001b[38;5;124mcategory\u001b[39m\u001b[38;5;124m'\u001b[39m, \u001b[38;5;124m'\u001b[39m\u001b[38;5;124mdestinationTable\u001b[39m\u001b[38;5;124m'\u001b[39m: \u001b[38;5;124m'\u001b[39m\u001b[38;5;124mcategory\u001b[39m\u001b[38;5;124m'\u001b[39m, \u001b[38;5;124m'\u001b[39m\u001b[38;5;124mqueryType\u001b[39m\u001b[38;5;124m'\u001b[39m: \u001b[38;5;124m'\u001b[39m\u001b[38;5;124mcategory\u001b[39m\u001b[38;5;124m'\u001b[39m, \u001b[38;5;124m'\u001b[39m\u001b[38;5;124mquery\u001b[39m\u001b[38;5;124m'\u001b[39m: \u001b[38;5;124m'\u001b[39m\u001b[38;5;124mcategory\u001b[39m\u001b[38;5;124m'\u001b[39m})\n\u001b[1;32m      3\u001b[0m  \u001b[38;5;241m.\u001b[39mdrop(columns\u001b[38;5;241m=\u001b[39m[\u001b[38;5;124m'\u001b[39m\u001b[38;5;124mjobId\u001b[39m\u001b[38;5;124m'\u001b[39m, \u001b[38;5;124m'\u001b[39m\u001b[38;5;124mdate\u001b[39m\u001b[38;5;124m'\u001b[39m, \u001b[38;5;124m'\u001b[39m\u001b[38;5;124mreferencedResources\u001b[39m\u001b[38;5;124m'\u001b[39m, \u001b[38;5;124m'\u001b[39m\u001b[38;5;124mdestinationTable\u001b[39m\u001b[38;5;124m'\u001b[39m, \u001b[38;5;124m'\u001b[39m\u001b[38;5;124misProductAnalyst\u001b[39m\u001b[38;5;124m'\u001b[39m])\n\u001b[1;32m      4\u001b[0m  \u001b[38;5;241m.\u001b[39massign(totalCostFiltered \u001b[38;5;241m=\u001b[39m df\u001b[38;5;241m.\u001b[39mtotalCost\u001b[38;5;241m.\u001b[39mclip(upper\u001b[38;5;241m=\u001b[39mdf\u001b[38;5;241m.\u001b[39mtotalCost\u001b[38;5;241m.\u001b[39mquantile(\u001b[38;5;241m.9\u001b[39m)), \n\u001b[1;32m      5\u001b[0m          costClassification \u001b[38;5;241m=\u001b[39m pd\u001b[38;5;241m.\u001b[39mcut(df[\u001b[38;5;124m'\u001b[39m\u001b[38;5;124mtotalCost\u001b[39m\u001b[38;5;124m'\u001b[39m], bins\u001b[38;5;241m=\u001b[39mdf[\u001b[38;5;124m'\u001b[39m\u001b[38;5;124mtotalCost\u001b[39m\u001b[38;5;124m'\u001b[39m]\u001b[38;5;241m.\u001b[39mquantile([\u001b[38;5;241m0\u001b[39m, \u001b[38;5;241m.5\u001b[39m, \u001b[38;5;241m.9\u001b[39m, \u001b[38;5;241m1\u001b[39m])\u001b[38;5;241m.\u001b[39mvalues, labels\u001b[38;5;241m=\u001b[39m[\u001b[38;5;124m\"\u001b[39m\u001b[38;5;124mlow\u001b[39m\u001b[38;5;124m\"\u001b[39m, \u001b[38;5;124m\"\u001b[39m\u001b[38;5;124mmedium\u001b[39m\u001b[38;5;124m\"\u001b[39m, \u001b[38;5;124m\"\u001b[39m\u001b[38;5;124mhigh\u001b[39m\u001b[38;5;124m\"\u001b[39m], include_lowest\u001b[38;5;241m=\u001b[39m\u001b[38;5;28;01mTrue\u001b[39;00m),\n\u001b[0;32m----> 6\u001b[0m          recurringExpensive \u001b[38;5;241m=\u001b[39m (\u001b[43mdf\u001b[49m\u001b[38;5;241;43m.\u001b[39;49m\u001b[43mcostClassification\u001b[49m \u001b[38;5;241m==\u001b[39m \u001b[38;5;124m'\u001b[39m\u001b[38;5;124mhigh\u001b[39m\u001b[38;5;124m'\u001b[39m) \u001b[38;5;241m&\u001b[39m (df\u001b[38;5;241m.\u001b[39mqueryType\u001b[38;5;241m.\u001b[39misin([\u001b[38;5;124m'\u001b[39m\u001b[38;5;124mSCHEDULED QUERY\u001b[39m\u001b[38;5;124m'\u001b[39m, \u001b[38;5;124m'\u001b[39m\u001b[38;5;124mDBT\u001b[39m\u001b[38;5;124m'\u001b[39m])))  \n\u001b[1;32m      7\u001b[0m )\n",
      "File \u001b[0;32m~/.pyenv/versions/3.9.13/lib/python3.9/site-packages/pandas/core/generic.py:5902\u001b[0m, in \u001b[0;36mNDFrame.__getattr__\u001b[0;34m(self, name)\u001b[0m\n\u001b[1;32m   5895\u001b[0m \u001b[38;5;28;01mif\u001b[39;00m (\n\u001b[1;32m   5896\u001b[0m     name \u001b[38;5;129;01mnot\u001b[39;00m \u001b[38;5;129;01min\u001b[39;00m \u001b[38;5;28mself\u001b[39m\u001b[38;5;241m.\u001b[39m_internal_names_set\n\u001b[1;32m   5897\u001b[0m     \u001b[38;5;129;01mand\u001b[39;00m name \u001b[38;5;129;01mnot\u001b[39;00m \u001b[38;5;129;01min\u001b[39;00m \u001b[38;5;28mself\u001b[39m\u001b[38;5;241m.\u001b[39m_metadata\n\u001b[1;32m   5898\u001b[0m     \u001b[38;5;129;01mand\u001b[39;00m name \u001b[38;5;129;01mnot\u001b[39;00m \u001b[38;5;129;01min\u001b[39;00m \u001b[38;5;28mself\u001b[39m\u001b[38;5;241m.\u001b[39m_accessors\n\u001b[1;32m   5899\u001b[0m     \u001b[38;5;129;01mand\u001b[39;00m \u001b[38;5;28mself\u001b[39m\u001b[38;5;241m.\u001b[39m_info_axis\u001b[38;5;241m.\u001b[39m_can_hold_identifiers_and_holds_name(name)\n\u001b[1;32m   5900\u001b[0m ):\n\u001b[1;32m   5901\u001b[0m     \u001b[38;5;28;01mreturn\u001b[39;00m \u001b[38;5;28mself\u001b[39m[name]\n\u001b[0;32m-> 5902\u001b[0m \u001b[38;5;28;01mreturn\u001b[39;00m \u001b[38;5;28;43mobject\u001b[39;49m\u001b[38;5;241;43m.\u001b[39;49m\u001b[38;5;21;43m__getattribute__\u001b[39;49m\u001b[43m(\u001b[49m\u001b[38;5;28;43mself\u001b[39;49m\u001b[43m,\u001b[49m\u001b[43m \u001b[49m\u001b[43mname\u001b[49m\u001b[43m)\u001b[49m\n",
      "\u001b[0;31mAttributeError\u001b[0m: 'DataFrame' object has no attribute 'costClassification'"
     ]
    }
   ],
   "source": [
    "(df\n",
    " .astype({'totalBilledBytes': 'int64', 'totalCost': 'float16', 'projectId': 'category', 'userId': 'category', 'destinationTable': 'category', 'queryType': 'category', 'query': 'category'})\n",
    " .drop(columns=['jobId', 'date', 'referencedResources', 'destinationTable', 'isProductAnalyst'])\n",
    " .assign(totalCostFiltered = df.totalCost.clip(upper=df.totalCost.quantile(.9)), \n",
    "         costClassification = pd.cut(df['totalCost'], bins=df['totalCost'].quantile([0, .5, .9, 1]).values, labels=[\"low\", \"medium\", \"high\"], include_lowest=True),\n",
    "         recurringExpensive = (df.costClassification == 'high') & (df.queryType.isin(['SCHEDULED QUERY', 'DBT'])))  \n",
    ")"
   ]
  },
  {
   "cell_type": "markdown",
   "id": "9f21b553",
   "metadata": {},
   "source": [
    "The error says that the `costClassification` attribute is missing. Put differently, when we're trying to construct the `recurringExpensive` column in the `assign()` function, it's still unaware of the `costClassification` definition we wrote the line above. Using a lambda function, it'll accept the current state of the dataframe however:"
   ]
  },
  {
   "cell_type": "code",
   "execution_count": 23,
   "id": "0df0c08c",
   "metadata": {},
   "outputs": [],
   "source": [
    "(df\n",
    " .astype({'totalBilledBytes': 'int64', 'totalCost': 'float16', 'projectId': 'category', 'userId': 'category', 'destinationTable': 'category', 'queryType': 'category', 'query': 'category'})\n",
    " .drop(columns=['jobId', 'date', 'referencedResources', 'destinationTable', 'isProductAnalyst'])\n",
    " .assign(totalCostFiltered = df.totalCost.clip(upper=df.totalCost.quantile(.9)), \n",
    "         costClassification = pd.cut(df['totalCost'], bins=df['totalCost'].quantile([0, .5, .9, 1]).values, labels=[\"low\", \"medium\", \"high\"], include_lowest=True),\n",
    "         recurringExpensive = lambda df_: (df_.costClassification == 'high') & (df.queryType.isin(['SCHEDULED QUERY', 'DBT'])))  \n",
    " .head(5)\n",
    ");"
   ]
  },
  {
   "cell_type": "markdown",
   "id": "ceb6e8cc",
   "metadata": {},
   "source": [
    "In other words, if there are dependencies among columns defined within `assign()` always incorporate a `lambda` function."
   ]
  },
  {
   "cell_type": "markdown",
   "id": "9ce087bd",
   "metadata": {},
   "source": [
    "**Resampling**  \n",
    "Although it perhaps sounds somewhat contradictory: *no data is also data*. This is to say, if there are no logs on a given date, it means the query count equals 0 (also a data point!). Most analytical methods, however, will not account for these null records at all. For example, if you list the total BigQuery costs for Stef, you'll see that only a handful of records show up between September and November. It, however, does mean that, for example, on September 15 the total costs were 0. Say that you're to calculate Stef's mean daily BQ cost based on this sample, you'd highly overestimate his actual usage!"
   ]
  },
  {
   "cell_type": "code",
   "execution_count": 24,
   "id": "fa755de9",
   "metadata": {},
   "outputs": [
    {
     "data": {
      "text/plain": [
       "date\n",
       "2022-09-14    6.41\n",
       "2022-09-20    0.53\n",
       "2022-09-23    3.43\n",
       "2022-10-07    0.07\n",
       "2022-10-28    0.00\n",
       "2022-10-31    0.00\n",
       "2022-11-01    0.00\n",
       "Name: totalCost, dtype: float64"
      ]
     },
     "execution_count": 24,
     "metadata": {},
     "output_type": "execute_result"
    }
   ],
   "source": [
    "(df\n",
    " .groupby(['userId', 'date'])\n",
    " ['totalCost']\n",
    " .sum()\n",
    " ['srustige@bol.com']\n",
    " .sort_index()\n",
    ")"
   ]
  },
  {
   "cell_type": "markdown",
   "id": "a534e470",
   "metadata": {},
   "source": [
    "One way to go about this, is to group the records on some shared index. This works well as long as all dates in your dataset appear at least once. "
   ]
  },
  {
   "cell_type": "code",
   "execution_count": 25,
   "id": "247897b7",
   "metadata": {},
   "outputs": [],
   "source": [
    "# run the cell without `;` to inspect the output\n",
    "(df\n",
    " .groupby(['userId', 'date'])\n",
    " [['totalCost']]\n",
    " .sum()\n",
    " .unstack('date')\n",
    " .fillna(0)\n",
    ");"
   ]
  },
  {
   "cell_type": "markdown",
   "id": "5c508431",
   "metadata": {},
   "source": [
    "A more robust solution, however, is to leverage the `.resample()` method. This also insert a 0 row if, for example, none of the ASA members queried on September 15."
   ]
  },
  {
   "cell_type": "code",
   "execution_count": 26,
   "id": "6a0c6b01",
   "metadata": {},
   "outputs": [
    {
     "data": {
      "text/html": [
       "<div>\n",
       "<style scoped>\n",
       "    .dataframe tbody tr th:only-of-type {\n",
       "        vertical-align: middle;\n",
       "    }\n",
       "\n",
       "    .dataframe tbody tr th {\n",
       "        vertical-align: top;\n",
       "    }\n",
       "\n",
       "    .dataframe thead th {\n",
       "        text-align: right;\n",
       "    }\n",
       "</style>\n",
       "<table border=\"1\" class=\"dataframe\">\n",
       "  <thead>\n",
       "    <tr style=\"text-align: right;\">\n",
       "      <th></th>\n",
       "      <th>totalCost</th>\n",
       "    </tr>\n",
       "    <tr>\n",
       "      <th>datetime</th>\n",
       "      <th></th>\n",
       "    </tr>\n",
       "  </thead>\n",
       "  <tbody>\n",
       "    <tr>\n",
       "      <th>2022-09-14</th>\n",
       "      <td>6.41</td>\n",
       "    </tr>\n",
       "    <tr>\n",
       "      <th>2022-09-15</th>\n",
       "      <td>0.00</td>\n",
       "    </tr>\n",
       "    <tr>\n",
       "      <th>2022-09-16</th>\n",
       "      <td>0.00</td>\n",
       "    </tr>\n",
       "    <tr>\n",
       "      <th>2022-09-17</th>\n",
       "      <td>0.00</td>\n",
       "    </tr>\n",
       "    <tr>\n",
       "      <th>2022-09-18</th>\n",
       "      <td>0.00</td>\n",
       "    </tr>\n",
       "  </tbody>\n",
       "</table>\n",
       "</div>"
      ],
      "text/plain": [
       "            totalCost\n",
       "datetime             \n",
       "2022-09-14       6.41\n",
       "2022-09-15       0.00\n",
       "2022-09-16       0.00\n",
       "2022-09-17       0.00\n",
       "2022-09-18       0.00"
      ]
     },
     "execution_count": 26,
     "metadata": {},
     "output_type": "execute_result"
    }
   ],
   "source": [
    "# more robust solution\n",
    "(df\n",
    " [df.userId == 'srustige@bol.com']\n",
    " .set_index(['datetime'])\n",
    " .resample('1D')\n",
    " [['totalCost']]\n",
    " .sum()\n",
    " .head()\n",
    ")"
   ]
  },
  {
   "cell_type": "markdown",
   "id": "a3997dff",
   "metadata": {},
   "source": [
    "---"
   ]
  },
  {
   "cell_type": "markdown",
   "id": "0ac42f10",
   "metadata": {},
   "source": [
    "**Handling missing data**  \n",
    "In some other cases, you may come across cases where it's not a lack of data that's causing missing dates but the data is really missing, and you cannot fill it with 0s either. \n",
    "\n",
    "For demonstration purposes, let's suppose that the total BigQuery costs for September are untrustworthy (after all 37K is a lot of money, isn't it?)."
   ]
  },
  {
   "cell_type": "code",
   "execution_count": 27,
   "id": "62a3fce6",
   "metadata": {},
   "outputs": [
    {
     "data": {
      "text/html": [
       "<div>\n",
       "<style scoped>\n",
       "    .dataframe tbody tr th:only-of-type {\n",
       "        vertical-align: middle;\n",
       "    }\n",
       "\n",
       "    .dataframe tbody tr th {\n",
       "        vertical-align: top;\n",
       "    }\n",
       "\n",
       "    .dataframe thead th {\n",
       "        text-align: right;\n",
       "    }\n",
       "</style>\n",
       "<table border=\"1\" class=\"dataframe\">\n",
       "  <thead>\n",
       "    <tr style=\"text-align: right;\">\n",
       "      <th></th>\n",
       "      <th>totalCost</th>\n",
       "    </tr>\n",
       "    <tr>\n",
       "      <th>month</th>\n",
       "      <th></th>\n",
       "    </tr>\n",
       "  </thead>\n",
       "  <tbody>\n",
       "    <tr>\n",
       "      <th>6</th>\n",
       "      <td>1303.24</td>\n",
       "    </tr>\n",
       "    <tr>\n",
       "      <th>7</th>\n",
       "      <td>2891.36</td>\n",
       "    </tr>\n",
       "    <tr>\n",
       "      <th>8</th>\n",
       "      <td>5794.45</td>\n",
       "    </tr>\n",
       "    <tr>\n",
       "      <th>9</th>\n",
       "      <td>36942.29</td>\n",
       "    </tr>\n",
       "    <tr>\n",
       "      <th>10</th>\n",
       "      <td>7356.09</td>\n",
       "    </tr>\n",
       "  </tbody>\n",
       "</table>\n",
       "</div>"
      ],
      "text/plain": [
       "       totalCost\n",
       "month           \n",
       "6        1303.24\n",
       "7        2891.36\n",
       "8        5794.45\n",
       "9       36942.29\n",
       "10       7356.09"
      ]
     },
     "execution_count": 27,
     "metadata": {},
     "output_type": "execute_result"
    }
   ],
   "source": [
    "missing_data = (df\n",
    " .assign(month = pd.to_datetime(df.date).dt.month)\n",
    " .groupby('month')\n",
    " [['totalCost']]\n",
    " .sum()\n",
    " .loc[:10]\n",
    ")\n",
    "\n",
    "missing_data"
   ]
  },
  {
   "cell_type": "markdown",
   "id": "87041136",
   "metadata": {},
   "source": [
    "For that reason, we set the value for the 9th month to `NaN` (wish I could do that for all my bills):"
   ]
  },
  {
   "cell_type": "code",
   "execution_count": 28,
   "id": "1c40c2b8",
   "metadata": {},
   "outputs": [
    {
     "data": {
      "text/html": [
       "<div>\n",
       "<style scoped>\n",
       "    .dataframe tbody tr th:only-of-type {\n",
       "        vertical-align: middle;\n",
       "    }\n",
       "\n",
       "    .dataframe tbody tr th {\n",
       "        vertical-align: top;\n",
       "    }\n",
       "\n",
       "    .dataframe thead th {\n",
       "        text-align: right;\n",
       "    }\n",
       "</style>\n",
       "<table border=\"1\" class=\"dataframe\">\n",
       "  <thead>\n",
       "    <tr style=\"text-align: right;\">\n",
       "      <th></th>\n",
       "      <th>totalCost</th>\n",
       "    </tr>\n",
       "    <tr>\n",
       "      <th>month</th>\n",
       "      <th></th>\n",
       "    </tr>\n",
       "  </thead>\n",
       "  <tbody>\n",
       "    <tr>\n",
       "      <th>6</th>\n",
       "      <td>1303.24</td>\n",
       "    </tr>\n",
       "    <tr>\n",
       "      <th>7</th>\n",
       "      <td>2891.36</td>\n",
       "    </tr>\n",
       "    <tr>\n",
       "      <th>8</th>\n",
       "      <td>5794.45</td>\n",
       "    </tr>\n",
       "    <tr>\n",
       "      <th>9</th>\n",
       "      <td>NaN</td>\n",
       "    </tr>\n",
       "    <tr>\n",
       "      <th>10</th>\n",
       "      <td>7356.09</td>\n",
       "    </tr>\n",
       "  </tbody>\n",
       "</table>\n",
       "</div>"
      ],
      "text/plain": [
       "       totalCost\n",
       "month           \n",
       "6        1303.24\n",
       "7        2891.36\n",
       "8        5794.45\n",
       "9            NaN\n",
       "10       7356.09"
      ]
     },
     "execution_count": 28,
     "metadata": {},
     "output_type": "execute_result"
    }
   ],
   "source": [
    "missing_data.loc[9, 'totalCost'] = np.NaN\n",
    "missing_data"
   ]
  },
  {
   "cell_type": "markdown",
   "id": "03f49eeb",
   "metadata": {},
   "source": [
    "It doesn't look so fancy if there are unexpected gaps in your line charts so let's see whether we can impute the missing values. There are various imputation strategies available in pandas. `bfill` will replace missing values with the values from the *next* row, .."
   ]
  },
  {
   "cell_type": "code",
   "execution_count": 29,
   "id": "87f4b044",
   "metadata": {},
   "outputs": [
    {
     "data": {
      "text/html": [
       "<div>\n",
       "<style scoped>\n",
       "    .dataframe tbody tr th:only-of-type {\n",
       "        vertical-align: middle;\n",
       "    }\n",
       "\n",
       "    .dataframe tbody tr th {\n",
       "        vertical-align: top;\n",
       "    }\n",
       "\n",
       "    .dataframe thead th {\n",
       "        text-align: right;\n",
       "    }\n",
       "</style>\n",
       "<table border=\"1\" class=\"dataframe\">\n",
       "  <thead>\n",
       "    <tr style=\"text-align: right;\">\n",
       "      <th></th>\n",
       "      <th>totalCost</th>\n",
       "    </tr>\n",
       "    <tr>\n",
       "      <th>month</th>\n",
       "      <th></th>\n",
       "    </tr>\n",
       "  </thead>\n",
       "  <tbody>\n",
       "    <tr>\n",
       "      <th>6</th>\n",
       "      <td>1303.24</td>\n",
       "    </tr>\n",
       "    <tr>\n",
       "      <th>7</th>\n",
       "      <td>2891.36</td>\n",
       "    </tr>\n",
       "    <tr>\n",
       "      <th>8</th>\n",
       "      <td>5794.45</td>\n",
       "    </tr>\n",
       "    <tr>\n",
       "      <th>9</th>\n",
       "      <td>7356.09</td>\n",
       "    </tr>\n",
       "    <tr>\n",
       "      <th>10</th>\n",
       "      <td>7356.09</td>\n",
       "    </tr>\n",
       "  </tbody>\n",
       "</table>\n",
       "</div>"
      ],
      "text/plain": [
       "       totalCost\n",
       "month           \n",
       "6        1303.24\n",
       "7        2891.36\n",
       "8        5794.45\n",
       "9        7356.09\n",
       "10       7356.09"
      ]
     },
     "execution_count": 29,
     "metadata": {},
     "output_type": "execute_result"
    }
   ],
   "source": [
    "# September now takes the value from October\n",
    "missing_data.bfill()"
   ]
  },
  {
   "cell_type": "markdown",
   "id": "61395382",
   "metadata": {},
   "source": [
    ".. while `ffill()` will replace missing values with values from the *previous* row."
   ]
  },
  {
   "cell_type": "code",
   "execution_count": 30,
   "id": "de6b12e5",
   "metadata": {},
   "outputs": [
    {
     "data": {
      "text/html": [
       "<div>\n",
       "<style scoped>\n",
       "    .dataframe tbody tr th:only-of-type {\n",
       "        vertical-align: middle;\n",
       "    }\n",
       "\n",
       "    .dataframe tbody tr th {\n",
       "        vertical-align: top;\n",
       "    }\n",
       "\n",
       "    .dataframe thead th {\n",
       "        text-align: right;\n",
       "    }\n",
       "</style>\n",
       "<table border=\"1\" class=\"dataframe\">\n",
       "  <thead>\n",
       "    <tr style=\"text-align: right;\">\n",
       "      <th></th>\n",
       "      <th>totalCost</th>\n",
       "    </tr>\n",
       "    <tr>\n",
       "      <th>month</th>\n",
       "      <th></th>\n",
       "    </tr>\n",
       "  </thead>\n",
       "  <tbody>\n",
       "    <tr>\n",
       "      <th>6</th>\n",
       "      <td>1303.24</td>\n",
       "    </tr>\n",
       "    <tr>\n",
       "      <th>7</th>\n",
       "      <td>2891.36</td>\n",
       "    </tr>\n",
       "    <tr>\n",
       "      <th>8</th>\n",
       "      <td>5794.45</td>\n",
       "    </tr>\n",
       "    <tr>\n",
       "      <th>9</th>\n",
       "      <td>5794.45</td>\n",
       "    </tr>\n",
       "    <tr>\n",
       "      <th>10</th>\n",
       "      <td>7356.09</td>\n",
       "    </tr>\n",
       "  </tbody>\n",
       "</table>\n",
       "</div>"
      ],
      "text/plain": [
       "       totalCost\n",
       "month           \n",
       "6        1303.24\n",
       "7        2891.36\n",
       "8        5794.45\n",
       "9        5794.45\n",
       "10       7356.09"
      ]
     },
     "execution_count": 30,
     "metadata": {},
     "output_type": "execute_result"
    }
   ],
   "source": [
    "# here September has the same value as August\n",
    "missing_data.ffill()"
   ]
  },
  {
   "cell_type": "markdown",
   "id": "192ab240",
   "metadata": {},
   "source": [
    "`interpolate()` takes a slightly different approach by using both pre and post data to estimate the missing value. By default it assumes a linear relationship but you can also set `method=polynomial` if another functional form suits your data better."
   ]
  },
  {
   "cell_type": "code",
   "execution_count": 31,
   "id": "fe411408",
   "metadata": {
    "scrolled": true
   },
   "outputs": [
    {
     "data": {
      "text/html": [
       "<div>\n",
       "<style scoped>\n",
       "    .dataframe tbody tr th:only-of-type {\n",
       "        vertical-align: middle;\n",
       "    }\n",
       "\n",
       "    .dataframe tbody tr th {\n",
       "        vertical-align: top;\n",
       "    }\n",
       "\n",
       "    .dataframe thead th {\n",
       "        text-align: right;\n",
       "    }\n",
       "</style>\n",
       "<table border=\"1\" class=\"dataframe\">\n",
       "  <thead>\n",
       "    <tr style=\"text-align: right;\">\n",
       "      <th></th>\n",
       "      <th>totalCost</th>\n",
       "    </tr>\n",
       "    <tr>\n",
       "      <th>month</th>\n",
       "      <th></th>\n",
       "    </tr>\n",
       "  </thead>\n",
       "  <tbody>\n",
       "    <tr>\n",
       "      <th>6</th>\n",
       "      <td>1303.24</td>\n",
       "    </tr>\n",
       "    <tr>\n",
       "      <th>7</th>\n",
       "      <td>2891.36</td>\n",
       "    </tr>\n",
       "    <tr>\n",
       "      <th>8</th>\n",
       "      <td>5794.45</td>\n",
       "    </tr>\n",
       "    <tr>\n",
       "      <th>9</th>\n",
       "      <td>6575.27</td>\n",
       "    </tr>\n",
       "    <tr>\n",
       "      <th>10</th>\n",
       "      <td>7356.09</td>\n",
       "    </tr>\n",
       "  </tbody>\n",
       "</table>\n",
       "</div>"
      ],
      "text/plain": [
       "       totalCost\n",
       "month           \n",
       "6        1303.24\n",
       "7        2891.36\n",
       "8        5794.45\n",
       "9        6575.27\n",
       "10       7356.09"
      ]
     },
     "execution_count": 31,
     "metadata": {},
     "output_type": "execute_result"
    }
   ],
   "source": [
    "# (5794.45 + 7356.09)/2 = 6575.27\n",
    "missing_data.interpolate()"
   ]
  },
  {
   "cell_type": "markdown",
   "id": "a0897f32",
   "metadata": {},
   "source": [
    "---"
   ]
  },
  {
   "cell_type": "markdown",
   "id": "79e54949",
   "metadata": {},
   "source": [
    "**Aggregations while keeping rows**  \n",
    "As follows from the cell below, roughly half of all queries are \"free\" (`totalCost = 0.00`): queries that add up to less than one cent. Still, someone chose to undertake an action that led to a query (e.g., inspecting the Preview window in BigQuery). Ideally, we'd like to distinguish such records from other days in which there were no queries at all - which were filled with `0.00` values using our resampling strategy above. For that reason, let's add a new column for the total number of daily queries to our original `df`."
   ]
  },
  {
   "cell_type": "code",
   "execution_count": 32,
   "id": "0fe5c4b5",
   "metadata": {},
   "outputs": [
    {
     "data": {
      "text/plain": [
       "0.00     0.446587\n",
       "0.01     0.065941\n",
       "0.11     0.031392\n",
       "0.02     0.027797\n",
       "0.05     0.021149\n",
       "14.64    0.020630\n",
       "0.06     0.020090\n",
       "0.27     0.017431\n",
       "0.03     0.017431\n",
       "0.07     0.016973\n",
       "Name: totalCost, dtype: float64"
      ]
     },
     "execution_count": 32,
     "metadata": {},
     "output_type": "execute_result"
    }
   ],
   "source": [
    "# top 10 totalCost amounts\n",
    "(df\n",
    " .totalCost\n",
    " .value_counts(normalize=True)\n",
    " .head(10)\n",
    ")"
   ]
  },
  {
   "cell_type": "markdown",
   "id": "bb6830b0",
   "metadata": {},
   "source": [
    "Before I had read the Effective pandas book, my strategy would have been to create a new dataframe `daily_queries` that contains the number of queries by user for each day and then join it with the original dataframe like this:"
   ]
  },
  {
   "cell_type": "code",
   "execution_count": 33,
   "id": "9bdf4ca7",
   "metadata": {},
   "outputs": [
    {
     "name": "stdout",
     "output_type": "stream",
     "text": [
      "22.3 ms ± 453 µs per loop (mean ± std. dev. of 7 runs, 10 loops each)\n"
     ]
    }
   ],
   "source": [
    "%%timeit\n",
    "daily_queries = (\n",
    "    df\n",
    "    .groupby(['userId', 'date'], as_index=False)\n",
    "    [['jobId']]\n",
    "    .count()\n",
    "    .rename(columns={'jobId': 'numQueries'})\n",
    ")\n",
    "\n",
    "df.merge(daily_queries, validate='m:1')"
   ]
  },
  {
   "cell_type": "markdown",
   "id": "a1715533",
   "metadata": {},
   "source": [
    "*Side-note:* `pandas` has some built-in validations for entitity relationships such as many to 1 (i.e., each query is only associated with a single total daily count). Really helpful!"
   ]
  },
  {
   "cell_type": "markdown",
   "id": "6fc59fdf",
   "metadata": {},
   "source": [
    "There's a more concise and faster way though: the `transform()` method allows you to aggregate data (like the daily query count) whilst still keeping the ungrouped row structure:"
   ]
  },
  {
   "cell_type": "code",
   "execution_count": 34,
   "id": "26733a12",
   "metadata": {},
   "outputs": [
    {
     "name": "stdout",
     "output_type": "stream",
     "text": [
      "5.59 ms ± 95 µs per loop (mean ± std. dev. of 7 runs, 100 loops each)\n"
     ]
    }
   ],
   "source": [
    "%%timeit  # over 3 times faster! (even if you skip the validation part)\n",
    "(\n",
    "    df\n",
    "     .assign(numQueries=df.groupby(['userId', 'date']).transform('size'))\n",
    ")"
   ]
  },
  {
   "cell_type": "markdown",
   "id": "7e6eefe3",
   "metadata": {},
   "source": [
    "Similarly, you can also easily add the daily cost to the dataframe (try it for yourself!)."
   ]
  },
  {
   "cell_type": "markdown",
   "id": "df35e408",
   "metadata": {},
   "source": [
    "---"
   ]
  },
  {
   "cell_type": "markdown",
   "id": "91559fa0",
   "metadata": {},
   "source": [
    "**Selecting columns**  \n",
    "While we often apply sophisticated query methods to filter on a row level, on a column level this occurs much more rarely. If your data is in wide format (e.g., pivot table) and you want to exclude only a few columns this turns into a tedious jobs. In the example below, I for example want to get rid of all staging (`stg`) tables in `billing_projects` so I manually select all `pro` columns."
   ]
  },
  {
   "cell_type": "code",
   "execution_count": 35,
   "id": "eaf2ce29",
   "metadata": {},
   "outputs": [],
   "source": [
    "billing_projects = (\n",
    " df\n",
    "  .pivot_table(values='totalCost', index='userId', columns='projectId', aggfunc='sum')\n",
    "  .fillna(0)\n",
    ")\n",
    "\n",
    "billing_projects[['bolcom-pro-aq-com-b2c', 'bolcom-pro-asa-12a', 'bolcom-pro-asa-dev-7d6',\n",
    "       'bolcom-pro-asa-master-api-275', 'bolcom-pro-bipo-training-097',\n",
    "       'bolcom-pro-commdev-4be', 'bolcom-pro-coreda-ec7',\n",
    "       'bolcom-pro-corry-801', 'bolcom-pro-ds-commerce-p-1-aa7',\n",
    "       'bolcom-pro-ds-commerce-p-2-3b2', 'bolcom-pro-ds-commerce-r-2-65d',\n",
    "       'bolcom-pro-ds-it-platform1-d04', 'bolcom-pro-ds-logistics-1-a72',\n",
    "       'bolcom-pro-ds-marketing-1-e13', 'bolcom-pro-ds-platform-p1-42d',\n",
    "       'bolcom-pro-ds-product-1-5d6', 'bolcom-pro-pq-analytics-f1a',\n",
    "       'bolcom-pro-pq-bigquery-7b8', 'bolcom-pro-pq-master-data-ae7',\n",
    "       'bolcom-pro-price-variety-56a', 'bolcom-pro-retail-tech-63f',\n",
    "       'bolcom-pro-rt-betteroffers-d8f', 'bolcom-pro-tb-marketing-1-c80',\n",
    "       'bolcom-pro-tb-platform-1-429', 'bolcom-pro-tb-product-1-9e9']];"
   ]
  },
  {
   "cell_type": "markdown",
   "id": "180e8760",
   "metadata": {},
   "source": [
    "Fortunately, pandas comes with a filter method that let's you use regular expressions on column names:"
   ]
  },
  {
   "cell_type": "code",
   "execution_count": 36,
   "id": "76dd6a34",
   "metadata": {},
   "outputs": [],
   "source": [
    "# cleaner (and more robust!)\n",
    "billing_projects.filter(like=r'pro');"
   ]
  },
  {
   "cell_type": "markdown",
   "id": "709f348e",
   "metadata": {},
   "source": [
    "---"
   ]
  },
  {
   "cell_type": "markdown",
   "id": "336b4465",
   "metadata": {},
   "source": [
    "**Smoothing time-series data**  \n",
    "One of the cool features of pandas is that it comes with matplotlib style functionalities out of the box. The downside, however, is that your plots may need some tweaking (to say the least)."
   ]
  },
  {
   "cell_type": "code",
   "execution_count": 37,
   "id": "7b68fb64",
   "metadata": {},
   "outputs": [
    {
     "data": {
      "image/png": "[encoded data removed]",
      "text/plain": [
       "<Figure size 640x480 with 1 Axes>"
      ]
     },
     "metadata": {},
     "output_type": "display_data"
    }
   ],
   "source": [
    "# axes labels overlap, useless legend, lots of 1-day peaks, etc.\n",
    "(df\n",
    " .groupby('date')\n",
    " [['totalCost']]\n",
    " .sum()\n",
    " .plot\n",
    " .line()\n",
    ");"
   ]
  },
  {
   "cell_type": "markdown",
   "id": "d053d1ef",
   "metadata": {},
   "source": [
    "Next, we're going to smoothen daily data so that it becomes the 7-day mean. This will result in a plot that's easier on the eyes. Currently, the daily cost data looks as follows:"
   ]
  },
  {
   "cell_type": "code",
   "execution_count": 38,
   "id": "9503c546",
   "metadata": {},
   "outputs": [
    {
     "data": {
      "text/html": [
       "<div>\n",
       "<style scoped>\n",
       "    .dataframe tbody tr th:only-of-type {\n",
       "        vertical-align: middle;\n",
       "    }\n",
       "\n",
       "    .dataframe tbody tr th {\n",
       "        vertical-align: top;\n",
       "    }\n",
       "\n",
       "    .dataframe thead th {\n",
       "        text-align: right;\n",
       "    }\n",
       "</style>\n",
       "<table border=\"1\" class=\"dataframe\">\n",
       "  <thead>\n",
       "    <tr style=\"text-align: right;\">\n",
       "      <th></th>\n",
       "      <th>totalCost</th>\n",
       "    </tr>\n",
       "    <tr>\n",
       "      <th>date</th>\n",
       "      <th></th>\n",
       "    </tr>\n",
       "  </thead>\n",
       "  <tbody>\n",
       "    <tr>\n",
       "      <th>2022-06-01</th>\n",
       "      <td>48.56</td>\n",
       "    </tr>\n",
       "    <tr>\n",
       "      <th>2022-06-02</th>\n",
       "      <td>151.46</td>\n",
       "    </tr>\n",
       "    <tr>\n",
       "      <th>2022-06-03</th>\n",
       "      <td>97.89</td>\n",
       "    </tr>\n",
       "    <tr>\n",
       "      <th>2022-06-04</th>\n",
       "      <td>21.42</td>\n",
       "    </tr>\n",
       "    <tr>\n",
       "      <th>2022-06-05</th>\n",
       "      <td>22.15</td>\n",
       "    </tr>\n",
       "    <tr>\n",
       "      <th>2022-06-06</th>\n",
       "      <td>76.20</td>\n",
       "    </tr>\n",
       "    <tr>\n",
       "      <th>2022-06-07</th>\n",
       "      <td>46.90</td>\n",
       "    </tr>\n",
       "  </tbody>\n",
       "</table>\n",
       "</div>"
      ],
      "text/plain": [
       "            totalCost\n",
       "date                 \n",
       "2022-06-01      48.56\n",
       "2022-06-02     151.46\n",
       "2022-06-03      97.89\n",
       "2022-06-04      21.42\n",
       "2022-06-05      22.15\n",
       "2022-06-06      76.20\n",
       "2022-06-07      46.90"
      ]
     },
     "execution_count": 38,
     "metadata": {},
     "output_type": "execute_result"
    }
   ],
   "source": [
    "daily_cloud_costs = (\n",
    " df\n",
    " .groupby('date')\n",
    " [['totalCost']]\n",
    " .sum()\n",
    " .fillna(0)\n",
    ")\n",
    "\n",
    "daily_cloud_costs.head(7)"
   ]
  },
  {
   "cell_type": "markdown",
   "id": "a711abaa",
   "metadata": {},
   "source": [
    "The smoothing procedure takes the data from the day(s) before, adds it up, and finally calculates the mean based on the number of days.\n"
   ]
  },
  {
   "cell_type": "code",
   "execution_count": 39,
   "id": "afa0ffb6",
   "metadata": {},
   "outputs": [
    {
     "data": {
      "text/html": [
       "<div>\n",
       "<style scoped>\n",
       "    .dataframe tbody tr th:only-of-type {\n",
       "        vertical-align: middle;\n",
       "    }\n",
       "\n",
       "    .dataframe tbody tr th {\n",
       "        vertical-align: top;\n",
       "    }\n",
       "\n",
       "    .dataframe thead th {\n",
       "        text-align: right;\n",
       "    }\n",
       "</style>\n",
       "<table border=\"1\" class=\"dataframe\">\n",
       "  <thead>\n",
       "    <tr style=\"text-align: right;\">\n",
       "      <th></th>\n",
       "      <th>totalCost</th>\n",
       "    </tr>\n",
       "    <tr>\n",
       "      <th>date</th>\n",
       "      <th></th>\n",
       "    </tr>\n",
       "  </thead>\n",
       "  <tbody>\n",
       "    <tr>\n",
       "      <th>2022-06-01</th>\n",
       "      <td>NaN</td>\n",
       "    </tr>\n",
       "    <tr>\n",
       "      <th>2022-06-02</th>\n",
       "      <td>48.56</td>\n",
       "    </tr>\n",
       "    <tr>\n",
       "      <th>2022-06-03</th>\n",
       "      <td>151.46</td>\n",
       "    </tr>\n",
       "    <tr>\n",
       "      <th>2022-06-04</th>\n",
       "      <td>97.89</td>\n",
       "    </tr>\n",
       "    <tr>\n",
       "      <th>2022-06-05</th>\n",
       "      <td>21.42</td>\n",
       "    </tr>\n",
       "    <tr>\n",
       "      <th>2022-06-06</th>\n",
       "      <td>22.15</td>\n",
       "    </tr>\n",
       "    <tr>\n",
       "      <th>2022-06-07</th>\n",
       "      <td>76.20</td>\n",
       "    </tr>\n",
       "  </tbody>\n",
       "</table>\n",
       "</div>"
      ],
      "text/plain": [
       "            totalCost\n",
       "date                 \n",
       "2022-06-01        NaN\n",
       "2022-06-02      48.56\n",
       "2022-06-03     151.46\n",
       "2022-06-04      97.89\n",
       "2022-06-05      21.42\n",
       "2022-06-06      22.15\n",
       "2022-06-07      76.20"
      ]
     },
     "execution_count": 39,
     "metadata": {},
     "output_type": "execute_result"
    }
   ],
   "source": [
    "# note: there's no lagging data for June 1st as it was the start of our sampling frame\n",
    "daily_cloud_costs.shift(1).head(7)"
   ]
  },
  {
   "cell_type": "code",
   "execution_count": 40,
   "id": "4395563c",
   "metadata": {},
   "outputs": [
    {
     "data": {
      "text/html": [
       "<div>\n",
       "<style scoped>\n",
       "    .dataframe tbody tr th:only-of-type {\n",
       "        vertical-align: middle;\n",
       "    }\n",
       "\n",
       "    .dataframe tbody tr th {\n",
       "        vertical-align: top;\n",
       "    }\n",
       "\n",
       "    .dataframe thead th {\n",
       "        text-align: right;\n",
       "    }\n",
       "</style>\n",
       "<table border=\"1\" class=\"dataframe\">\n",
       "  <thead>\n",
       "    <tr style=\"text-align: right;\">\n",
       "      <th></th>\n",
       "      <th>totalCost</th>\n",
       "    </tr>\n",
       "    <tr>\n",
       "      <th>date</th>\n",
       "      <th></th>\n",
       "    </tr>\n",
       "  </thead>\n",
       "  <tbody>\n",
       "    <tr>\n",
       "      <th>2022-06-01</th>\n",
       "      <td>NaN</td>\n",
       "    </tr>\n",
       "    <tr>\n",
       "      <th>2022-06-02</th>\n",
       "      <td>100.010</td>\n",
       "    </tr>\n",
       "    <tr>\n",
       "      <th>2022-06-03</th>\n",
       "      <td>124.675</td>\n",
       "    </tr>\n",
       "    <tr>\n",
       "      <th>2022-06-04</th>\n",
       "      <td>59.655</td>\n",
       "    </tr>\n",
       "    <tr>\n",
       "      <th>2022-06-05</th>\n",
       "      <td>21.785</td>\n",
       "    </tr>\n",
       "  </tbody>\n",
       "</table>\n",
       "</div>"
      ],
      "text/plain": [
       "            totalCost\n",
       "date                 \n",
       "2022-06-01        NaN\n",
       "2022-06-02    100.010\n",
       "2022-06-03    124.675\n",
       "2022-06-04     59.655\n",
       "2022-06-05     21.785"
      ]
     },
     "execution_count": 40,
     "metadata": {},
     "output_type": "execute_result"
    }
   ],
   "source": [
    "# take the average value of day t and t-1\n",
    "(\n",
    "    daily_cloud_costs\n",
    "    .add(daily_cloud_costs.shift(1))\n",
    "    .div(2)\n",
    "    .head()\n",
    ")"
   ]
  },
  {
   "cell_type": "markdown",
   "id": "d3075df4",
   "metadata": {},
   "source": [
    "As you noticed, this becomes quite tedious once you want to add up multiple days of data (e.g., a week), so fortunately pandas comes with a method that takes care of this in one go: `rolling()`. "
   ]
  },
  {
   "cell_type": "code",
   "execution_count": 41,
   "id": "7e437f51",
   "metadata": {},
   "outputs": [
    {
     "data": {
      "image/png": "[encoded data removed]",
      "text/plain": [
       "<Figure size 1200x500 with 1 Axes>"
      ]
     },
     "metadata": {},
     "output_type": "display_data"
    }
   ],
   "source": [
    "fig, ax = plt.subplots(figsize=(12,5))\n",
    "\n",
    "(df\n",
    " .groupby('date')\n",
    " [['totalCost']]\n",
    " .sum()\n",
    " .rolling(7)  # add the total cost of the 7 days prior and calculate the overall daily mean\n",
    " .mean()\n",
    " .plot\n",
    " .line(ax=ax, legend=None)\n",
    ")\n",
    "\n",
    "ax.set_ylabel(\"7-day mean daily BQ cost (€)\")\n",
    "ax.set_xlabel(\"\");"
   ]
  },
  {
   "cell_type": "markdown",
   "id": "cad4f3e7",
   "metadata": {},
   "source": [
    "The rolling method certainly smoothened our dataset, but it also makes it look like the high BigQuery costs late September sustained for a longer period than reality (because an outlier now also impacts proceeding values). In such cases, you may not only want to smoothen a time series but aggregate it on a higher level. The `pd.Grouper()` function makes it very easy to do this (e.g., switch `W` (week) for example to `Q` for quarterly level or `2W` for bi-weekly level data!):"
   ]
  },
  {
   "cell_type": "code",
   "execution_count": 42,
   "id": "25217986",
   "metadata": {},
   "outputs": [
    {
     "data": {
      "image/png": "[encoded data removed]",
      "text/plain": [
       "<Figure size 1200x500 with 1 Axes>"
      ]
     },
     "metadata": {},
     "output_type": "display_data"
    }
   ],
   "source": [
    "fig, ax = plt.subplots(figsize=(12,5))\n",
    "\n",
    "(df\n",
    "  .assign(date=pd.to_datetime(df.date))\n",
    "  .groupby(pd.Grouper(key='date', freq='W'))\n",
    "  [['totalCost']]\n",
    "  .sum()\n",
    "  .plot(ax=ax, legend=None)\n",
    ")\n",
    "\n",
    "ax.set_ylabel(\"Weekly BQ cost (€)\")\n",
    "ax.set_xlabel(\"\");"
   ]
  },
  {
   "cell_type": "markdown",
   "id": "74a40489",
   "metadata": {},
   "source": [
    "---"
   ]
  },
  {
   "cell_type": "markdown",
   "id": "557d88d7",
   "metadata": {},
   "source": [
    "## Exporting Data\n",
    "After conducting your analysis in pandas, you may want to update your business stakeholders with an export of the data in CSV or Excel format. Although this gets the job done, both data formats have some inherent limitations. \n",
    "\n",
    "Fortunately, for internal use (e.g., saving intermediate results) there exist better alternatives. For example, if you want to pick up the analysis you worked on the day before and don't want to have to run your notebook top to bottom every time. As the table below demonstrates, in such cases you should highly consider saving data in another format: CSV data has - by far - the largest file size and slowest write/read speed."
   ]
  },
  {
   "cell_type": "markdown",
   "id": "077f6736",
   "metadata": {},
   "source": [
    "| Filetype | Filesize (MB) | Memory (MB) | Write (s) | Read (s) | \n",
    "| :--- | :--- | :--- | :--- | :--- | \n",
    "| CSV | 124 | 2.6 | 1.3 | 0.7 |\n",
    "| Pickle | 43 | 1.2 | 0.02 | 0.02|\n",
    "| Parquet | 6 | 1.8 | 0.09 | 0.08 |\n",
    "| Feather | 4 | 1.7 | 0.04 | 0.06 |"
   ]
  },
  {
   "cell_type": "markdown",
   "id": "129c1134",
   "metadata": {},
   "source": [
    "Unlike the other file types, CSV also does not preserve the data types specified in the source. For example, once you import the `bq_logs.csv` file (see below), you need to re-assign the categories (and even the datetime format). Although this relatively small data set does not make a strong argument, it's generally said that `feather` is better for *short-term* storage (=fast to read and write but creates slightly larger file sizes) while `parquet` is better for long-term storage as it's file sizes are smallest. \n",
    "\n",
    "In the Appendix below you can try it out for yourself (of course the read/write speed may deviate a bit depending on your own machine).\n",
    "\n",
    "Happy waiting!"
   ]
  },
  {
   "cell_type": "markdown",
   "id": "29c97d9a",
   "metadata": {},
   "source": [
    "---\n",
    "## Appendix"
   ]
  },
  {
   "cell_type": "code",
   "execution_count": 43,
   "id": "306a67fa",
   "metadata": {},
   "outputs": [],
   "source": [
    "# create a new folder for our data exports (if it does not exist yet)\n",
    "from pathlib import Path\n",
    "Path(\"./export\").mkdir(parents=True, exist_ok=True)"
   ]
  },
  {
   "cell_type": "markdown",
   "id": "b4a30724",
   "metadata": {},
   "source": [
    "**CSV**"
   ]
  },
  {
   "cell_type": "code",
   "execution_count": 44,
   "id": "2488f82e",
   "metadata": {},
   "outputs": [
    {
     "name": "stdout",
     "output_type": "stream",
     "text": [
      "1.35 s ± 12.5 ms per loop (mean ± std. dev. of 7 runs, 1 loop each)\n"
     ]
    }
   ],
   "source": [
    "%%timeit\n",
    "df_cleaned.to_csv('export/bq_logs.csv', index=False)"
   ]
  },
  {
   "cell_type": "code",
   "execution_count": 45,
   "id": "53c84d25",
   "metadata": {},
   "outputs": [
    {
     "name": "stdout",
     "output_type": "stream",
     "text": [
      "<class 'pandas.core.frame.DataFrame'>\n",
      "RangeIndex: 48134 entries, 0 to 48133\n",
      "Data columns (total 7 columns):\n",
      " #   Column            Non-Null Count  Dtype  \n",
      "---  ------            --------------  -----  \n",
      " 0   datetime          48134 non-null  object \n",
      " 1   projectId         48134 non-null  object \n",
      " 2   userId            48134 non-null  object \n",
      " 3   query             48134 non-null  object \n",
      " 4   totalBilledBytes  48134 non-null  int64  \n",
      " 5   totalCost         48134 non-null  float64\n",
      " 6   queryType         48134 non-null  object \n",
      "dtypes: float64(1), int64(1), object(5)\n",
      "memory usage: 2.6+ MB\n"
     ]
    }
   ],
   "source": [
    "df_csv = pd.read_csv('export/bq_logs.csv')\n",
    "df_csv.info()"
   ]
  },
  {
   "cell_type": "markdown",
   "id": "4b074779",
   "metadata": {},
   "source": [
    "**Pickle**"
   ]
  },
  {
   "cell_type": "code",
   "execution_count": 46,
   "id": "7e007f07",
   "metadata": {},
   "outputs": [
    {
     "name": "stdout",
     "output_type": "stream",
     "text": [
      "20.3 ms ± 2.9 ms per loop (mean ± std. dev. of 7 runs, 100 loops each)\n"
     ]
    }
   ],
   "source": [
    "%%timeit\n",
    "df_cleaned.to_pickle('export/bq_logs.pickle')"
   ]
  },
  {
   "cell_type": "code",
   "execution_count": 47,
   "id": "be610ce8",
   "metadata": {},
   "outputs": [
    {
     "name": "stdout",
     "output_type": "stream",
     "text": [
      "<class 'pandas.core.frame.DataFrame'>\n",
      "RangeIndex: 48134 entries, 0 to 48133\n",
      "Data columns (total 7 columns):\n",
      " #   Column            Non-Null Count  Dtype         \n",
      "---  ------            --------------  -----         \n",
      " 0   datetime          48134 non-null  datetime64[ns]\n",
      " 1   projectId         48134 non-null  category      \n",
      " 2   userId            48134 non-null  category      \n",
      " 3   query             48134 non-null  category      \n",
      " 4   totalBilledBytes  48134 non-null  int64         \n",
      " 5   totalCost         48134 non-null  float16       \n",
      " 6   queryType         48134 non-null  category      \n",
      "dtypes: category(4), datetime64[ns](1), float16(1), int64(1)\n",
      "memory usage: 1.2 MB\n"
     ]
    }
   ],
   "source": [
    "df_pickle = pd.read_pickle('export/bq_logs.pickle')\n",
    "df_pickle.info()"
   ]
  },
  {
   "cell_type": "markdown",
   "id": "9f701201",
   "metadata": {},
   "source": [
    "**Parquet**"
   ]
  },
  {
   "cell_type": "code",
   "execution_count": 48,
   "id": "1a9d5034",
   "metadata": {},
   "outputs": [],
   "source": [
    "# throws an error... ooopsh!!!\n",
    "# df_cleaned.to_parquet('export/bq_logs.parquet')"
   ]
  },
  {
   "cell_type": "code",
   "execution_count": 49,
   "id": "c9fafed7",
   "metadata": {},
   "outputs": [],
   "source": [
    "# let's convert float16 to float32 (or float64) to solve it!\n",
    "df_cleaned_float32 = (df_cleaned.astype({'totalCost': 'float32'}))"
   ]
  },
  {
   "cell_type": "code",
   "execution_count": 50,
   "id": "83dcbeca",
   "metadata": {},
   "outputs": [
    {
     "name": "stdout",
     "output_type": "stream",
     "text": [
      "94.4 ms ± 4.86 ms per loop (mean ± std. dev. of 7 runs, 1 loop each)\n"
     ]
    }
   ],
   "source": [
    "%%timeit\n",
    "df_cleaned_float32.to_parquet('export/bq_logs.parquet')"
   ]
  },
  {
   "cell_type": "code",
   "execution_count": 51,
   "id": "0c97904f",
   "metadata": {},
   "outputs": [
    {
     "name": "stdout",
     "output_type": "stream",
     "text": [
      "<class 'pandas.core.frame.DataFrame'>\n",
      "RangeIndex: 48134 entries, 0 to 48133\n",
      "Data columns (total 7 columns):\n",
      " #   Column            Non-Null Count  Dtype         \n",
      "---  ------            --------------  -----         \n",
      " 0   datetime          48134 non-null  datetime64[ns]\n",
      " 1   projectId         48134 non-null  category      \n",
      " 2   userId            48134 non-null  category      \n",
      " 3   query             48134 non-null  category      \n",
      " 4   totalBilledBytes  48134 non-null  int64         \n",
      " 5   totalCost         48134 non-null  float32       \n",
      " 6   queryType         48134 non-null  category      \n",
      "dtypes: category(4), datetime64[ns](1), float32(1), int64(1)\n",
      "memory usage: 1.8 MB\n"
     ]
    }
   ],
   "source": [
    "df_parquet = pd.read_parquet('export/bq_logs.parquet')\n",
    "df_parquet.info()"
   ]
  },
  {
   "cell_type": "markdown",
   "id": "0fdc73b2",
   "metadata": {},
   "source": [
    "**Feather**"
   ]
  },
  {
   "cell_type": "code",
   "execution_count": 52,
   "id": "2d2f2db9",
   "metadata": {},
   "outputs": [
    {
     "name": "stdout",
     "output_type": "stream",
     "text": [
      "39.9 ms ± 1.42 ms per loop (mean ± std. dev. of 7 runs, 10 loops each)\n"
     ]
    }
   ],
   "source": [
    "%%timeit \n",
    "df_cleaned.to_feather('export/bq_logs.feather')"
   ]
  },
  {
   "cell_type": "code",
   "execution_count": 53,
   "id": "70af7f24",
   "metadata": {},
   "outputs": [
    {
     "name": "stdout",
     "output_type": "stream",
     "text": [
      "<class 'pandas.core.frame.DataFrame'>\n",
      "RangeIndex: 48134 entries, 0 to 48133\n",
      "Data columns (total 7 columns):\n",
      " #   Column            Non-Null Count  Dtype         \n",
      "---  ------            --------------  -----         \n",
      " 0   datetime          48134 non-null  datetime64[ns]\n",
      " 1   projectId         48134 non-null  category      \n",
      " 2   userId            48134 non-null  category      \n",
      " 3   query             48134 non-null  category      \n",
      " 4   totalBilledBytes  48134 non-null  int64         \n",
      " 5   totalCost         48134 non-null  float16       \n",
      " 6   queryType         48134 non-null  category      \n",
      "dtypes: category(4), datetime64[ns](1), float16(1), int64(1)\n",
      "memory usage: 1.7 MB\n"
     ]
    }
   ],
   "source": [
    "df_feather = pd.read_feather('export/bq_logs.feather')\n",
    "df_feather.info()"
   ]
  }
 ],
 "metadata": {
  "kernelspec": {
   "display_name": "Python 3 (ipykernel)",
   "language": "python",
   "name": "python3"
  },
  "language_info": {
   "codemirror_mode": {
    "name": "ipython",
    "version": 3
   },
   "file_extension": ".py",
   "mimetype": "text/x-python",
   "name": "python",
   "nbconvert_exporter": "python",
   "pygments_lexer": "ipython3",
   "version": "3.9.13"
  }
 },
 "nbformat": 4,
 "nbformat_minor": 5
}
